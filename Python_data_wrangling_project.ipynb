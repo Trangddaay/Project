{
 "cells": [
  {
   "cell_type": "code",
   "execution_count": 1,
   "id": "225ba6b4",
   "metadata": {},
   "outputs": [],
   "source": [
    "import pandas as pd\n",
    "import numpy as np\n",
    "sales = pd.read_csv('sales.csv')\n",
    "prices = pd.read_csv('prices.csv')"
   ]
  },
  {
   "cell_type": "code",
   "execution_count": 2,
   "id": "b0a7ff29",
   "metadata": {
    "scrolled": true
   },
   "outputs": [],
   "source": [
    "sales['ordered_at'] = pd.to_datetime(sales['ordered_at'])\n",
    "prices['updated_at'] = pd.to_datetime(prices['updated_at'])"
   ]
  },
  {
   "cell_type": "code",
   "execution_count": 3,
   "id": "d486f04e",
   "metadata": {},
   "outputs": [],
   "source": [
    "#def function that return the closest date that price update\n",
    "def closest_update_date (id, order_date):\n",
    "    new_date = prices['updated_at'][prices['product_id'] == id]\n",
    "    if order_date < new_date.min():\n",
    "       closest_date = new_date.min()\n",
    "    else :\n",
    "       closest_date = new_date[order_date > new_date].max()                            \n",
    "    return closest_date"
   ]
  },
  {
   "cell_type": "code",
   "execution_count": 4,
   "id": "e1e997fa",
   "metadata": {},
   "outputs": [],
   "source": [
    "#def function that return closest price base on productid and order_date\n",
    "def return_closest_price(id, order_date):\n",
    "    day = closest_update_date (id, order_date)\n",
    "    if order_date < day :\n",
    "       closest_price = prices['old_price'][(prices['updated_at'] == day) & (prices['product_id'] == id)].values[0]\n",
    "    else :\n",
    "       closest_price = prices['new_price'][(prices['updated_at'] == day) & (prices['product_id'] == id)].values[0]                              \n",
    "    return closest_price"
   ]
  },
  {
   "cell_type": "code",
   "execution_count": 5,
   "id": "cfd80030",
   "metadata": {},
   "outputs": [
    {
     "name": "stdout",
     "output_type": "stream",
     "text": [
      "     product_id          ordered_at  quantity_ordered   price  revenue\n",
      "0       3998909 2018-09-18 17:51:00                 1   16500    16500\n",
      "1       3998909 2018-09-18 12:52:00                 1   16500    16500\n",
      "2       3998909 2018-09-18 11:33:00                 1   16500    16500\n",
      "3       3998909 2018-09-18 18:47:00                 1   16500    16500\n",
      "4       3998909 2018-09-18 17:36:00                 1   16500    16500\n",
      "..          ...                 ...               ...     ...      ...\n",
      "170     4085861 2018-09-13 23:29:00                 1   62500    62500\n",
      "171          64 2018-09-11 19:32:00                 1  239000   239000\n",
      "172          64 2018-09-14 20:10:00                 1  239000   239000\n",
      "173          64 2018-09-12 16:00:00                 1  239000   239000\n",
      "174          64 2018-09-12 13:23:00                 1  239000   239000\n",
      "\n",
      "[175 rows x 5 columns]\n"
     ]
    }
   ],
   "source": [
    "#Find price corresponding each row and append to update_price array.\n",
    "update_price=[]\n",
    "for i in np.arange(len(sales)):\n",
    "    updated_price = return_closest_price(sales.iloc[i]['product_id'], sales.iloc[i]['ordered_at'])\n",
    "    update_price.append(updated_price)\n",
    "\n",
    "#create and calculate price and revenue column\n",
    "sales[\"price\"] = update_price\n",
    "sales[\"revenue\"] = sales['price'] * sales['quantity_ordered']\n",
    "\n",
    "#export to csv file\n",
    "print(sales)\n",
    "\n"
   ]
  },
  {
   "cell_type": "code",
   "execution_count": 6,
   "id": "0ed526dc",
   "metadata": {},
   "outputs": [
    {
     "data": {
      "text/html": [
       "<div>\n",
       "<style scoped>\n",
       "    .dataframe tbody tr th:only-of-type {\n",
       "        vertical-align: middle;\n",
       "    }\n",
       "\n",
       "    .dataframe tbody tr th {\n",
       "        vertical-align: top;\n",
       "    }\n",
       "\n",
       "    .dataframe thead th {\n",
       "        text-align: right;\n",
       "    }\n",
       "</style>\n",
       "<table border=\"1\" class=\"dataframe\">\n",
       "  <thead>\n",
       "    <tr style=\"text-align: right;\">\n",
       "      <th></th>\n",
       "      <th>revenue</th>\n",
       "    </tr>\n",
       "    <tr>\n",
       "      <th>product_id</th>\n",
       "      <th></th>\n",
       "    </tr>\n",
       "  </thead>\n",
       "  <tbody>\n",
       "    <tr>\n",
       "      <th>64</th>\n",
       "      <td>956000</td>\n",
       "    </tr>\n",
       "    <tr>\n",
       "      <th>3954203</th>\n",
       "      <td>877500</td>\n",
       "    </tr>\n",
       "    <tr>\n",
       "      <th>3998909</th>\n",
       "      <td>280500</td>\n",
       "    </tr>\n",
       "    <tr>\n",
       "      <th>4085861</th>\n",
       "      <td>8247500</td>\n",
       "    </tr>\n",
       "  </tbody>\n",
       "</table>\n",
       "</div>"
      ],
      "text/plain": [
       "            revenue\n",
       "product_id         \n",
       "64           956000\n",
       "3954203      877500\n",
       "3998909      280500\n",
       "4085861     8247500"
      ]
     },
     "execution_count": 6,
     "metadata": {},
     "output_type": "execute_result"
    }
   ],
   "source": [
    "sales.groupby('product_id').agg({'revenue':sum})"
   ]
  },
  {
   "cell_type": "code",
   "execution_count": null,
   "id": "91ae2baa",
   "metadata": {},
   "outputs": [],
   "source": []
  }
 ],
 "metadata": {
  "kernelspec": {
   "display_name": "Python 3 (ipykernel)",
   "language": "python",
   "name": "python3"
  },
  "language_info": {
   "codemirror_mode": {
    "name": "ipython",
    "version": 3
   },
   "file_extension": ".py",
   "mimetype": "text/x-python",
   "name": "python",
   "nbconvert_exporter": "python",
   "pygments_lexer": "ipython3",
   "version": "3.9.12"
  }
 },
 "nbformat": 4,
 "nbformat_minor": 5
}
